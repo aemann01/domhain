{
 "cells": [
  {
   "cell_type": "markdown",
   "id": "7aace311",
   "metadata": {},
   "source": [
    "# Setup"
   ]
  },
  {
   "cell_type": "markdown",
   "id": "ea3711e2",
   "metadata": {},
   "source": [
    "### 1. Install required libraries"
   ]
  },
  {
   "cell_type": "code",
   "execution_count": 1,
   "id": "28e5a207",
   "metadata": {},
   "outputs": [
    {
     "name": "stderr",
     "output_type": "stream",
     "text": [
      "'getOption(\"repos\")' replaces Bioconductor standard repositories, see\n",
      "'?repositories' for details\n",
      "\n",
      "replacement repositories:\n",
      "    CRAN: https://cran.r-project.org\n",
      "\n",
      "\n",
      "Bioconductor version 3.14 (BiocManager 1.30.16), R 4.1.0 (2021-05-18)\n",
      "\n",
      "Warning message:\n",
      "“package(s) not installed when version(s) same as current; use `force = TRUE` to\n",
      "  re-install: 'philr'”\n",
      "Old packages: 'stringi'\n",
      "\n",
      "'getOption(\"repos\")' replaces Bioconductor standard repositories, see\n",
      "'?repositories' for details\n",
      "\n",
      "replacement repositories:\n",
      "    CRAN: https://cran.r-project.org\n",
      "\n",
      "\n",
      "Bioconductor version 3.14 (BiocManager 1.30.16), R 4.1.0 (2021-05-18)\n",
      "\n",
      "Warning message:\n",
      "“package(s) not installed when version(s) same as current; use `force = TRUE` to\n",
      "  re-install: 'phyloseq'”\n",
      "Old packages: 'stringi'\n",
      "\n",
      "'getOption(\"repos\")' replaces Bioconductor standard repositories, see\n",
      "'?repositories' for details\n",
      "\n",
      "replacement repositories:\n",
      "    CRAN: https://cran.r-project.org\n",
      "\n",
      "\n",
      "Bioconductor version 3.14 (BiocManager 1.30.16), R 4.1.0 (2021-05-18)\n",
      "\n",
      "Warning message:\n",
      "“package(s) not installed when version(s) same as current; use `force = TRUE` to\n",
      "  re-install: 'microbiome'”\n",
      "Old packages: 'stringi'\n",
      "\n",
      "Updating HTML index of packages in '.Library'\n",
      "\n",
      "Making 'packages.html' ...\n",
      " done\n",
      "\n",
      "Updating HTML index of packages in '.Library'\n",
      "\n",
      "Making 'packages.html' ...\n",
      " done\n",
      "\n",
      "Updating HTML index of packages in '.Library'\n",
      "\n",
      "Making 'packages.html' ...\n",
      " done\n",
      "\n",
      "Updating HTML index of packages in '.Library'\n",
      "\n",
      "Making 'packages.html' ...\n",
      " done\n",
      "\n",
      "Updating HTML index of packages in '.Library'\n",
      "\n",
      "Making 'packages.html' ...\n",
      " done\n",
      "\n",
      "Updating HTML index of packages in '.Library'\n",
      "\n",
      "Making 'packages.html' ...\n",
      " done\n",
      "\n",
      "Updating HTML index of packages in '.Library'\n",
      "\n",
      "Making 'packages.html' ...\n",
      " done\n",
      "\n",
      "Updating HTML index of packages in '.Library'\n",
      "\n",
      "Making 'packages.html' ...\n",
      " done\n",
      "\n",
      "Updating HTML index of packages in '.Library'\n",
      "\n",
      "Making 'packages.html' ...\n",
      " done\n",
      "\n",
      "Updating HTML index of packages in '.Library'\n",
      "\n",
      "Making 'packages.html' ...\n",
      " done\n",
      "\n",
      "Skipping install of 'phylofactor' from a github remote, the SHA1 (666b55cf) has not changed since last install.\n",
      "  Use `force = TRUE` to force installation\n",
      "\n",
      "Skipping install of 'ggnet' from a github remote, the SHA1 (da9a7cf2) has not changed since last install.\n",
      "  Use `force = TRUE` to force installation\n",
      "\n",
      "Skipping install of 'metagMisc' from a github remote, the SHA1 (9cb31317) has not changed since last install.\n",
      "  Use `force = TRUE` to force installation\n",
      "\n",
      "Skipping install of 'pairwiseAdonis' from a github remote, the SHA1 (ece560d2) has not changed since last install.\n",
      "  Use `force = TRUE` to force installation\n",
      "\n"
     ]
    }
   ],
   "source": [
    "BiocManager::install(\"philr\")\n",
    "BiocManager::install(\"phyloseq\")\n",
    "BiocManager::install(\"microbiome\")\n",
    "install.packages(\"RColorBrewer\")\n",
    "install.packages(\"UpSetR\")\n",
    "install.packages(\"ggfortify\")\n",
    "install.packages(\"randomForest\")\n",
    "install.packages(\"rfUtilities\")\n",
    "install.packages(\"phytools\")\n",
    "install.packages(\"gridExtra\")\n",
    "install.packages(\"remotes\")\n",
    "install.packages('devtools')\n",
    "install.packages(\"intergraph\")\n",
    "devtools::install_github('reptalex/phylofactor')\n",
    "devtools::install_github(\"briatte/ggnet\")\n",
    "remotes::install_github(\"vmikk/metagMisc\")\n",
    "remotes::install_github(\"pmartinezarbizu/pairwiseAdonis/pairwiseAdonis\")"
   ]
  },
  {
   "cell_type": "markdown",
   "id": "bd8859ba",
   "metadata": {},
   "source": [
    "### 2. Load required libraries"
   ]
  },
  {
   "cell_type": "code",
   "execution_count": 1,
   "id": "518c0ebf",
   "metadata": {},
   "outputs": [
    {
     "name": "stderr",
     "output_type": "stream",
     "text": [
      "Loading required package: ggplot2\n",
      "\n",
      "randomForest 4.7-1\n",
      "\n",
      "Type rfNews() to see new features/changes/bug fixes.\n",
      "\n",
      "\n",
      "Attaching package: ‘randomForest’\n",
      "\n",
      "\n",
      "The following object is masked from ‘package:ggplot2’:\n",
      "\n",
      "    margin\n",
      "\n",
      "\n",
      "Loading required package: ape\n",
      "\n",
      "Loading required package: maps\n",
      "\n",
      "\n",
      "Attaching package: ‘gridExtra’\n",
      "\n",
      "\n",
      "The following object is masked from ‘package:randomForest’:\n",
      "\n",
      "    combine\n",
      "\n",
      "\n",
      "\n",
      "microbiome R package (microbiome.github.com)\n",
      "    \n",
      "\n",
      "\n",
      " Copyright (C) 2011-2021 Leo Lahti, \n",
      "    Sudarshan Shetty et al. <microbiome.github.io>\n",
      "\n",
      "\n",
      "\n",
      "Attaching package: ‘microbiome’\n",
      "\n",
      "\n",
      "The following object is masked from ‘package:ggplot2’:\n",
      "\n",
      "    alpha\n",
      "\n",
      "\n",
      "The following object is masked from ‘package:base’:\n",
      "\n",
      "    transform\n",
      "\n",
      "\n",
      "Loading required package: magrittr\n",
      "\n",
      "Loading required package: data.table\n",
      "\n",
      "Loading required package: Matrix\n",
      "\n",
      "\n",
      "Attaching package: ‘dplyr’\n",
      "\n",
      "\n",
      "The following objects are masked from ‘package:data.table’:\n",
      "\n",
      "    between, first, last\n",
      "\n",
      "\n",
      "The following object is masked from ‘package:gridExtra’:\n",
      "\n",
      "    combine\n",
      "\n",
      "\n",
      "The following object is masked from ‘package:randomForest’:\n",
      "\n",
      "    combine\n",
      "\n",
      "\n",
      "The following objects are masked from ‘package:stats’:\n",
      "\n",
      "    filter, lag\n",
      "\n",
      "\n",
      "The following objects are masked from ‘package:base’:\n",
      "\n",
      "    intersect, setdiff, setequal, union\n",
      "\n",
      "\n",
      "Loading required package: vegan\n",
      "\n",
      "Loading required package: permute\n",
      "\n",
      "Loading required package: lattice\n",
      "\n",
      "\n",
      "Attaching package: ‘lattice’\n",
      "\n",
      "\n",
      "The following object is masked from ‘package:UpSetR’:\n",
      "\n",
      "    histogram\n",
      "\n",
      "\n",
      "This is vegan 2.5-7\n",
      "\n",
      "\n",
      "Attaching package: ‘vegan’\n",
      "\n",
      "\n",
      "The following object is masked from ‘package:microbiome’:\n",
      "\n",
      "    diversity\n",
      "\n",
      "\n",
      "The following object is masked from ‘package:phytools’:\n",
      "\n",
      "    scores\n",
      "\n",
      "\n",
      "Loading required package: cluster\n",
      "\n",
      "\n",
      "Attaching package: ‘cluster’\n",
      "\n",
      "\n",
      "The following object is masked from ‘package:maps’:\n",
      "\n",
      "    votes.repub\n",
      "\n",
      "\n"
     ]
    }
   ],
   "source": [
    "library(philr)\n",
    "library(RColorBrewer)\n",
    "library(UpSetR)\n",
    "library(ggfortify)\n",
    "library(randomForest)\n",
    "library(rfUtilities)\n",
    "library(phytools)\n",
    "library(phyloseq)\n",
    "library(gridExtra)\n",
    "library(microbiome)\n",
    "library(phylofactor)\n",
    "library(dplyr)\n",
    "library(pairwiseAdonis)\n",
    "library(ape)"
   ]
  },
  {
   "cell_type": "markdown",
   "id": "5795b660",
   "metadata": {},
   "source": [
    "### 3. Load data into R"
   ]
  },
  {
   "cell_type": "code",
   "execution_count": null,
   "id": "11ee07ca",
   "metadata": {},
   "outputs": [],
   "source": [
    "map <- read.table(\"map.txt\", sep=\"\\t\", header=T, row.names=1)\n",
    "seqtab <- read.table(\"../01-read_processing/sequence_table.merged.txt\", header=T, row.names=1)\n",
    "tax <- read.table(\"../01-read_processing/taxonomy_bac.txt\", header=F, row.names=1, sep=\"\\t\")\n",
    "tree <- read.tree(\"../01-read_processing/rep_set.align.tre\")\n",
    "tree.root <- midpoint.root(tree)"
   ]
  },
  {
   "cell_type": "markdown",
   "id": "be3ff578",
   "metadata": {},
   "source": [
    "### 4. Which samples are missing from metadata/sequence table?"
   ]
  },
  {
   "cell_type": "code",
   "execution_count": null,
   "id": "bd4f0ae7",
   "metadata": {},
   "outputs": [],
   "source": [
    "notinmeta <- setdiff(row.names(seqtab), row.names(map))\n",
    "notinraw <- setdiff(row.names(map), row.names(seqtab))\n",
    "notinmeta\n",
    "notinraw"
   ]
  },
  {
   "cell_type": "markdown",
   "id": "2c2a3f3e",
   "metadata": {},
   "source": [
    "### 5. Create phyloseq object"
   ]
  },
  {
   "cell_type": "code",
   "execution_count": null,
   "id": "b01a307a",
   "metadata": {},
   "outputs": [],
   "source": [
    "ps.dat <- phyloseq(otu_table(seqtab, taxa_are_rows=F), sample_data(map), tax_table(as.matrix(tax)), tree.root)\n",
    "ps.dat"
   ]
  },
  {
   "cell_type": "markdown",
   "id": "8ff75892",
   "metadata": {},
   "source": [
    "### 6. Filter out low prevalence ASVs"
   ]
  },
  {
   "cell_type": "code",
   "execution_count": null,
   "id": "e4342160",
   "metadata": {},
   "outputs": [],
   "source": [
    "# compute prevalence dataframe\n",
    "prevdf <- apply(X=otu_table(ps.dat), MARGIN=ifelse(taxa_are_rows(ps.dat), yes=1, no=2), FUN=function(x){sum(x>0)})\n",
    "# add taxa and total read counts to dataframe\n",
    "prevdf <- data.frame(Prevalence=prevdf, TotalAbundance=taxa_sums(ps.dat), tax_table(ps.dat))\n",
    "# which phyla are comprised as mostly low prevalence ASVs?\n",
    "pdf(\"totalabund_vs_prevalence.pdf\")\n",
    "ggplot(prevdf, aes(TotalAbundance, Prevalence, nsamples(ps.dat), color=\"V4\")) + geom_hline(yintercept=0.05, alpha=0.5, linetype=2) + geom_point(size=2, alpha=0.7) + scale_x_log10() + xlab(\"Total Abundance\") + ylab(\"Prevalence [Frac. Samples]\") + facet_wrap(~V4) + theme(legend.position=\"none\")\n",
    "dev.off()\n",
    "# kept asvs must be found in at least 1% of all samples \n",
    "ps.dat <- phyloseq_filter_prevalence(ps.dat, prev.trh=0.01)\n",
    "ps.dat"
   ]
  },
  {
   "cell_type": "markdown",
   "id": "fce789bf",
   "metadata": {},
   "source": [
    "### 7. Remove samples with fewer than 4000 reads post filtering, remove control samples"
   ]
  },
  {
   "cell_type": "code",
   "execution_count": null,
   "id": "f9f15d20",
   "metadata": {},
   "outputs": [],
   "source": [
    "ps.dat <- prune_samples(sample_sums(ps.dat) > 4000, ps.dat)\n",
    "ps.dat <- subset_samples(ps.dat, study_group != \"mock\")\n",
    "ps.dat"
   ]
  },
  {
   "cell_type": "markdown",
   "id": "bc99874b",
   "metadata": {},
   "source": [
    "### 8. Write filtered ASV, metadata, and taxonomy table to file"
   ]
  },
  {
   "cell_type": "code",
   "execution_count": null,
   "id": "c7f564ca",
   "metadata": {},
   "outputs": [],
   "source": [
    "write.table(as.data.frame(otu_table(ps.dat)), \"../02-read_processing/sequence_table.filt.txt\", sep=\"\\t\", row.names=T, col.names=T)\n",
    "# write filtered taxonomy to file\n",
    "write.table(as.data.frame(tax_table(ps.dat)), \"../02-read_processing/taxonomy_bac.filt.txt\", sep=\"\\t\", row.names=T, col.names=T)\n",
    "# filtered metadata\n",
    "write.table(as.data.frame(sample_data(ps.dat)), \"../02-read_processing/map.filt.txt\", sep=\"\\t\", row.names=T, col.names=T)"
   ]
  },
  {
   "cell_type": "markdown",
   "id": "b777204a",
   "metadata": {},
   "source": [
    "# Rarefaction analysis"
   ]
  },
  {
   "cell_type": "code",
   "execution_count": null,
   "id": "428a0f2c",
   "metadata": {},
   "outputs": [],
   "source": [
    "pdf(\"img/rarecurve.pdf\")\n",
    "ggrare(ps.dat, step=10, label=NULL, color=\"\", parallel=T)\n",
    "dev.off()"
   ]
  },
  {
   "cell_type": "markdown",
   "id": "b8890476",
   "metadata": {},
   "source": [
    "# Taxonomic analyses"
   ]
  },
  {
   "cell_type": "markdown",
   "id": "628ea67c",
   "metadata": {},
   "source": [
    "### 1. Common phyla across samples (non-transformed data)"
   ]
  },
  {
   "cell_type": "code",
   "execution_count": null,
   "id": "27c4f867",
   "metadata": {},
   "outputs": [],
   "source": [
    "rel.abund <- transform_sample_counts(ps.dat, function(x) x/sum(x)) # get relative abundance\n",
    "glom <- tax_glom(rel.abund, taxrank=rank_names(rel.abund)[3]) # collapse \n",
    "data <- psmelt(glom) # create dataframe from phyloseq object\n",
    "data$V4 <- as.character(data$V4) # convert to character\n",
    "data$V4[data$Abundance < 0.01] <- \"< 1% abund\" # rename low freq phyla\n",
    "medians <- ddply(data, ~V4, function(x) c(median=median(x$Abundance)))\n",
    "medians"
   ]
  },
  {
   "cell_type": "markdown",
   "id": "bc5f9b72",
   "metadata": {},
   "source": [
    "### 2. Most common genera?"
   ]
  },
  {
   "cell_type": "code",
   "execution_count": null,
   "id": "4a58189f",
   "metadata": {},
   "outputs": [],
   "source": [
    "glom <- tax_glom(rel.abund, taxrank=rank_names(rel.abund)[8]) # collapse \n",
    "data <- psmelt(glom) # create dataframe from phyloseq object\n",
    "data$V8 <- as.character(data$V8) # convert to character\n",
    "data$V8[data$Abundance < 0.20] <- \"< 20% abund\" # rename low freq phyla\n",
    "medians <- ddply(data, ~V8, function(x) c(median=median(x$Abundance)))\n",
    "medians"
   ]
  },
  {
   "cell_type": "markdown",
   "id": "6e07eb2e",
   "metadata": {},
   "source": [
    "### 3. Phylum level figures"
   ]
  },
  {
   "cell_type": "code",
   "execution_count": null,
   "id": "3712586e",
   "metadata": {},
   "outputs": [],
   "source": [
    "system(\"mkdir img\")\n",
    "data$Sample <- factor(data$Sample, levels=unique(data$Sample))\n",
    "# plot by sample\n",
    "pdf(\"img/taxonomy_barchart.pdf\")\n",
    "ggplot(data, aes(x=Sample, y=Abundance, fill=V4)) + geom_bar(aes(), stat=\"identity\", position=\"stack\") + theme_minimal() + theme(axis.text.x = element_text(angle = 90))\n",
    "dev.off()\n",
    "# phyloseq group by hiv status and aliquot type\n",
    "pdf(\"img/tax_bar.aliquot_by_sample.pdf\")\n",
    "plot_bar(rel.abund, \"V4\", fill=\"V4\", facet_grid=aliquot_type~study_group) + geom_bar(aes(color=V4, fill=V4), stat=\"identity\", position=\"stack\")\n",
    "dev.off()"
   ]
  },
  {
   "cell_type": "markdown",
   "id": "3b482d48",
   "metadata": {},
   "source": [
    "Stacked barchart grouped by study group and aliquot type (phylum level)"
   ]
  },
  {
   "cell_type": "code",
   "execution_count": null,
   "id": "ad78d33c",
   "metadata": {},
   "outputs": [],
   "source": [
    "grouped <- data %>% group_by(study_group, aliquot_type, V4) %>% summarize(Abundance = mean(Abundance))\n",
    "pdf(\"img/bar.study_group.phyla.pdf\")\n",
    "ggplot(grouped, aes(fill=V4, y=Abundance, x=study_group)) + geom_bar(position=\"fill\", stat=\"identity\") + facet_wrap(~aliquot_type) + theme_minimal()\n",
    "dev.off()"
   ]
  },
  {
   "cell_type": "markdown",
   "id": "6b0b5244",
   "metadata": {},
   "source": [
    "Stacked barchart at family level (only above 20% frequency)"
   ]
  },
  {
   "cell_type": "code",
   "execution_count": null,
   "id": "68369ca4",
   "metadata": {},
   "outputs": [],
   "source": [
    "glom <- tax_glom(rel.abund, taxrank=rank_names(rel.abund)[8]) # collapse \n",
    "data <- psmelt(glom) # create dataframe from phyloseq object\n",
    "data$V7 <- as.character(data$V7) # convert to character\n",
    "data$V7[data$Abundance < 0.2] <- \"< 20% abund\" # rename low freq phyla\n",
    "grouped <- data %>% group_by(study_group, aliquot_type, V7) %>% summarize(Abundance = mean(Abundance))\n",
    "pdf(\"img/bar.study_group.L7.pdf\")\n",
    "ggplot(grouped, aes(fill=V7, y=Abundance, x=study_group)) + geom_bar(position=\"fill\", stat=\"identity\") + facet_wrap(~aliquot_type) + theme_minimal() + theme(legend.key.size=unit(0.000001, \"cm\"))\n",
    "dev.off()"
   ]
  },
  {
   "cell_type": "markdown",
   "id": "654d2952",
   "metadata": {},
   "source": [
    "# PhILR transformation"
   ]
  },
  {
   "cell_type": "code",
   "execution_count": null,
   "id": "af654c39",
   "metadata": {},
   "outputs": [],
   "source": [
    "philr.dat <- transform_sample_counts(ps.dat, function(x) x+1) # add pseudocount of one to ASVs to avoid log-ratios calculated from zero\n",
    "is.rooted(phy_tree(philr.dat)) # check that tree is rooted\n",
    "# [1] TRUE\n",
    "is.binary(phy_tree(philr.dat)) #check that multichotomies are resolved in tree\n",
    "# [1] TRUE\n",
    "phy_tree(philr.dat) <- makeNodeLabel(phy_tree(philr.dat), method=\"number\", prefix=\"n\")\n",
    "asv.table <- otu_table(philr.dat)\n",
    "tree <- phy_tree(philr.dat)\n",
    "metadata <- sample_data(philr.dat)\n",
    "tax <- tax_table(philr.dat)\n",
    "philr.t <- philr(asv.table, tree, part.weights=\"enorm.x.gm.counts\", ilr.weights=\"blw.sqrt\")"
   ]
  },
  {
   "cell_type": "markdown",
   "id": "e546ab25",
   "metadata": {},
   "source": [
    "# Beta diversity"
   ]
  },
  {
   "cell_type": "markdown",
   "id": "52b1616c",
   "metadata": {},
   "source": [
    "Get distance matrix from PhILR transformed data"
   ]
  },
  {
   "cell_type": "code",
   "execution_count": null,
   "id": "51150593",
   "metadata": {},
   "outputs": [],
   "source": [
    "philr.dist <- dist(philr.t, method=\"euclidean\") "
   ]
  },
  {
   "cell_type": "markdown",
   "id": "8ba9105e",
   "metadata": {},
   "source": [
    "PCA plots"
   ]
  },
  {
   "cell_type": "code",
   "execution_count": null,
   "id": "c3af4340",
   "metadata": {},
   "outputs": [],
   "source": [
    "# scree plot\n",
    "pca <- prcomp(as.matrix(philr.dist))\n",
    "pdf(\"img/pca_screeplot.pdf\")\n",
    "screeplot(pca)\n",
    "dev.off()\n",
    "# colored by aliquot type, shape by study group\n",
    "pdf(\"img/pca.aliquot_type.pdf\")\n",
    "autoplot(pca, data=sample_data(philr.dat), colour=\"aliquot_type\", shape=\"study_group\") + theme_minimal() + scale_shape_manual(values=c(15, 16, 17, 18))\n",
    "dev.off()\n",
    "# study group, sex\n",
    "pdf(\"img/pca.sex.pdf\")\n",
    "autoplot(pca, data=sample_data(philr.dat), colour=\"sex\", shape=\"study_group\") + theme_minimal() + scale_shape_manual(values=c(15, 16, 17, 18))\n",
    "dev.off()"
   ]
  }
 ],
 "metadata": {
  "kernelspec": {
   "display_name": "R",
   "language": "R",
   "name": "ir"
  },
  "language_info": {
   "codemirror_mode": "r",
   "file_extension": ".r",
   "mimetype": "text/x-r-source",
   "name": "R",
   "pygments_lexer": "r",
   "version": "4.1.0"
  }
 },
 "nbformat": 4,
 "nbformat_minor": 5
}
