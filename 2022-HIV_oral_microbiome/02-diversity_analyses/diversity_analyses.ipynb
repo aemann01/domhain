{
 "cells": [
  {
   "cell_type": "markdown",
   "id": "7aace311",
   "metadata": {},
   "source": [
    "# Setup"
   ]
  },
  {
   "cell_type": "markdown",
   "id": "ea3711e2",
   "metadata": {},
   "source": [
    "### 1. Install required libraries"
   ]
  },
  {
   "cell_type": "code",
   "execution_count": 1,
   "id": "28e5a207",
   "metadata": {},
   "outputs": [],
   "source": [
    "# BiocManager::install(\"philr\")\n",
    "# BiocManager::install(\"phyloseq\")\n",
    "# BiocManager::install(\"microbiome\")\n",
    "# install.packages(\"RColorBrewer\")\n",
    "# install.packages(\"UpSetR\")\n",
    "# install.packages(\"ggfortify\")\n",
    "# install.packages(\"randomForest\")\n",
    "# install.packages(\"rfUtilities\")\n",
    "# install.packages(\"phytools\")\n",
    "# install.packages(\"gridExtra\")\n",
    "# install.packages(\"remotes\")\n",
    "# install.packages('devtools')\n",
    "# install.packages(\"intergraph\")\n",
    "# devtools::install_github('reptalex/phylofactor')\n",
    "# devtools::install_github(\"briatte/ggnet\")\n",
    "# remotes::install_github(\"vmikk/metagMisc\")\n",
    "# remotes::install_github(\"pmartinezarbizu/pairwiseAdonis/pairwiseAdonis\")\n",
    "# remotes::install_github(\"gauravsk/ranacapa\")"
   ]
  },
  {
   "cell_type": "markdown",
   "id": "bd8859ba",
   "metadata": {},
   "source": [
    "### 2. Load required libraries"
   ]
  },
  {
   "cell_type": "code",
   "execution_count": 2,
   "id": "518c0ebf",
   "metadata": {},
   "outputs": [
    {
     "name": "stderr",
     "output_type": "stream",
     "text": [
      "Loading required package: ggplot2\n",
      "\n",
      "randomForest 4.7-1\n",
      "\n",
      "Type rfNews() to see new features/changes/bug fixes.\n",
      "\n",
      "\n",
      "Attaching package: ‘randomForest’\n",
      "\n",
      "\n",
      "The following object is masked from ‘package:ggplot2’:\n",
      "\n",
      "    margin\n",
      "\n",
      "\n",
      "Loading required package: ape\n",
      "\n",
      "Loading required package: maps\n",
      "\n",
      "\n",
      "Attaching package: ‘gridExtra’\n",
      "\n",
      "\n",
      "The following object is masked from ‘package:randomForest’:\n",
      "\n",
      "    combine\n",
      "\n",
      "\n",
      "\n",
      "microbiome R package (microbiome.github.com)\n",
      "    \n",
      "\n",
      "\n",
      " Copyright (C) 2011-2021 Leo Lahti, \n",
      "    Sudarshan Shetty et al. <microbiome.github.io>\n",
      "\n",
      "\n",
      "\n",
      "Attaching package: ‘microbiome’\n",
      "\n",
      "\n",
      "The following object is masked from ‘package:ggplot2’:\n",
      "\n",
      "    alpha\n",
      "\n",
      "\n",
      "The following object is masked from ‘package:base’:\n",
      "\n",
      "    transform\n",
      "\n",
      "\n",
      "Loading required package: magrittr\n",
      "\n",
      "Loading required package: data.table\n",
      "\n",
      "Loading required package: Matrix\n",
      "\n",
      "\n",
      "Attaching package: ‘dplyr’\n",
      "\n",
      "\n",
      "The following objects are masked from ‘package:data.table’:\n",
      "\n",
      "    between, first, last\n",
      "\n",
      "\n",
      "The following object is masked from ‘package:gridExtra’:\n",
      "\n",
      "    combine\n",
      "\n",
      "\n",
      "The following object is masked from ‘package:randomForest’:\n",
      "\n",
      "    combine\n",
      "\n",
      "\n",
      "The following objects are masked from ‘package:stats’:\n",
      "\n",
      "    filter, lag\n",
      "\n",
      "\n",
      "The following objects are masked from ‘package:base’:\n",
      "\n",
      "    intersect, setdiff, setequal, union\n",
      "\n",
      "\n",
      "Loading required package: vegan\n",
      "\n",
      "Loading required package: permute\n",
      "\n",
      "Loading required package: lattice\n",
      "\n",
      "\n",
      "Attaching package: ‘lattice’\n",
      "\n",
      "\n",
      "The following object is masked from ‘package:UpSetR’:\n",
      "\n",
      "    histogram\n",
      "\n",
      "\n",
      "This is vegan 2.5-7\n",
      "\n",
      "\n",
      "Attaching package: ‘vegan’\n",
      "\n",
      "\n",
      "The following object is masked from ‘package:microbiome’:\n",
      "\n",
      "    diversity\n",
      "\n",
      "\n",
      "The following object is masked from ‘package:phytools’:\n",
      "\n",
      "    scores\n",
      "\n",
      "\n",
      "Loading required package: cluster\n",
      "\n",
      "\n",
      "Attaching package: ‘cluster’\n",
      "\n",
      "\n",
      "The following object is masked from ‘package:maps’:\n",
      "\n",
      "    votes.repub\n",
      "\n",
      "\n"
     ]
    }
   ],
   "source": [
    "library(philr)\n",
    "library(RColorBrewer)\n",
    "library(UpSetR)\n",
    "library(ggfortify)\n",
    "library(randomForest)\n",
    "library(rfUtilities)\n",
    "library(phytools)\n",
    "library(phyloseq)\n",
    "library(gridExtra)\n",
    "library(microbiome)\n",
    "library(phylofactor)\n",
    "library(dplyr)\n",
    "library(pairwiseAdonis)\n",
    "library(ape)\n",
    "library(metagMisc)\n",
    "library(ranacapa)"
   ]
  },
  {
   "cell_type": "markdown",
   "id": "5795b660",
   "metadata": {},
   "source": [
    "### 3. Load data into R"
   ]
  },
  {
   "cell_type": "code",
   "execution_count": null,
   "id": "11ee07ca",
   "metadata": {},
   "outputs": [],
   "source": [
    "map <- read.table(\"map.txt\", sep=\"\\t\", header=T, row.names=1)\n",
    "seqtab <- read.table(\"../01-read_processing/sequence_table.merged.txt\", header=T, row.names=1)\n",
    "tax <- read.table(\"../01-read_processing/taxonomy_bac.txt\", header=F, row.names=1, sep=\"\\t\")\n",
    "tree <- read.tree(\"../01-read_processing/rep_set.align.tre\")\n",
    "tree.root <- midpoint.root(tree)"
   ]
  },
  {
   "cell_type": "markdown",
   "id": "be3ff578",
   "metadata": {},
   "source": [
    "### 4. Which samples are missing from metadata/sequence table?"
   ]
  },
  {
   "cell_type": "code",
   "execution_count": null,
   "id": "bd4f0ae7",
   "metadata": {},
   "outputs": [],
   "source": [
    "notinmeta <- setdiff(row.names(seqtab), row.names(map))\n",
    "notinraw <- setdiff(row.names(map), row.names(seqtab))\n",
    "print(\"Samples not found in metadata:\")\n",
    "notinmeta\n",
    "print(\"Samples not found in sequencing table:\")\n",
    "notinraw"
   ]
  },
  {
   "cell_type": "markdown",
   "id": "2c2a3f3e",
   "metadata": {},
   "source": [
    "### 5. Create phyloseq object"
   ]
  },
  {
   "cell_type": "code",
   "execution_count": null,
   "id": "b01a307a",
   "metadata": {},
   "outputs": [],
   "source": [
    "ps.dat <- phyloseq(otu_table(seqtab, taxa_are_rows=F), sample_data(map), tax_table(as.matrix(tax)), tree.root)\n",
    "ps.dat"
   ]
  },
  {
   "cell_type": "markdown",
   "id": "8ff75892",
   "metadata": {},
   "source": [
    "### 6. Filter out low prevalence ASVs"
   ]
  },
  {
   "cell_type": "code",
   "execution_count": null,
   "id": "e4342160",
   "metadata": {},
   "outputs": [],
   "source": [
    "# compute prevalence dataframe\n",
    "prevdf <- apply(X=otu_table(ps.dat), MARGIN=ifelse(taxa_are_rows(ps.dat), yes=1, no=2), FUN=function(x){sum(x>0)})\n",
    "# add taxa and total read counts to dataframe\n",
    "prevdf <- data.frame(Prevalence=prevdf, TotalAbundance=taxa_sums(ps.dat), tax_table(ps.dat))\n",
    "# which phyla are comprised as mostly low prevalence ASVs?\n",
    "lowprev <- ggplot(prevdf, aes(TotalAbundance, Prevalence, nsamples(ps.dat), color=\"V4\")) + geom_hline(yintercept=0.05, alpha=0.5, linetype=2) + geom_point(size=2, alpha=0.7) + scale_x_log10() + xlab(\"Total Abundance\") + ylab(\"Prevalence [Frac. Samples]\") + facet_wrap(~V4) + theme(legend.position=\"none\")\n",
    "lowprev\n",
    "pdf(\"totalabund_vs_prevalence.pdf\")\n",
    "lowprev\n",
    "dev.off()\n",
    "# kept asvs must be found in at least 1% of all samples \n",
    "ps.dat <- phyloseq_filter_prevalence(ps.dat, prev.trh=0.01)\n",
    "ps.dat"
   ]
  },
  {
   "cell_type": "markdown",
   "id": "fce789bf",
   "metadata": {},
   "source": [
    "### 7. Remove samples with fewer than 4000 reads post filtering, remove control samples"
   ]
  },
  {
   "cell_type": "code",
   "execution_count": null,
   "id": "f9f15d20",
   "metadata": {},
   "outputs": [],
   "source": [
    "ps.dat <- prune_samples(sample_sums(ps.dat) > 4000, ps.dat)\n",
    "ps.dat <- subset_samples(ps.dat, study_group != \"mock\")\n",
    "ps.dat\n",
    "# save image\n",
    "save.image()"
   ]
  },
  {
   "cell_type": "markdown",
   "id": "bc99874b",
   "metadata": {},
   "source": [
    "### 8. Write filtered ASV, metadata, and taxonomy table to file"
   ]
  },
  {
   "cell_type": "code",
   "execution_count": null,
   "id": "c7f564ca",
   "metadata": {},
   "outputs": [],
   "source": [
    "write.table(as.data.frame(otu_table(ps.dat)), \"../01-read_processing/sequence_table.filt.txt\", sep=\"\\t\", row.names=T, col.names=T)\n",
    "# write filtered taxonomy to file\n",
    "write.table(as.data.frame(tax_table(ps.dat)), \"../01-read_processing/taxonomy_bac.filt.txt\", sep=\"\\t\", row.names=T, col.names=T)\n",
    "# filtered metadata\n",
    "write.table(as.data.frame(sample_data(ps.dat)), \"../01-read_processing/map.filt.txt\", sep=\"\\t\", row.names=T, col.names=T)"
   ]
  },
  {
   "cell_type": "markdown",
   "id": "b777204a",
   "metadata": {},
   "source": [
    "# Rarefaction analysis"
   ]
  },
  {
   "cell_type": "code",
   "execution_count": null,
   "id": "428a0f2c",
   "metadata": {},
   "outputs": [],
   "source": [
    "# rarecuv <- ggrare(ps.dat, step=10, label=NULL, color=\"\", parallel=T)\n",
    "# rarecuv\n",
    "# pdf(\"img/rarecurve.pdf\")\n",
    "# rarecurv\n",
    "# dev.off()"
   ]
  },
  {
   "cell_type": "markdown",
   "id": "b8890476",
   "metadata": {},
   "source": [
    "# Taxonomic analyses"
   ]
  },
  {
   "cell_type": "markdown",
   "id": "628ea67c",
   "metadata": {},
   "source": [
    "### 1. Common phyla across samples (non-transformed data)"
   ]
  },
  {
   "cell_type": "code",
   "execution_count": null,
   "id": "27c4f867",
   "metadata": {},
   "outputs": [],
   "source": [
    "rel.abund <- transform_sample_counts(ps.dat, function(x) x/sum(x)) # get relative abundance\n",
    "glom <- tax_glom(rel.abund, taxrank=rank_names(rel.abund)[3]) # collapse \n",
    "data <- psmelt(glom) # create dataframe from phyloseq object\n",
    "data$V4 <- as.character(data$V4) # convert to character\n",
    "data$V4[data$Abundance < 0.01] <- \"< 1% abund\" # rename low freq phyla\n",
    "medians <- plyr::ddply(data, ~V4, function(x) c(median=median(x$Abundance)))\n",
    "medians"
   ]
  },
  {
   "cell_type": "markdown",
   "id": "bc5f9b72",
   "metadata": {},
   "source": [
    "### 2. Most common genera?"
   ]
  },
  {
   "cell_type": "code",
   "execution_count": null,
   "id": "4a58189f",
   "metadata": {},
   "outputs": [],
   "source": [
    "glom <- tax_glom(rel.abund, taxrank=rank_names(rel.abund)[8]) # collapse \n",
    "data <- psmelt(glom) # create dataframe from phyloseq object\n",
    "data$V8 <- as.character(data$V8) # convert to character\n",
    "data$V8[data$Abundance < 0.20] <- \"< 20% abund\" # rename low freq phyla\n",
    "medians <- plyr::ddply(data, ~V8, function(x) c(median=median(x$Abundance)))\n",
    "medians"
   ]
  },
  {
   "cell_type": "markdown",
   "id": "6e07eb2e",
   "metadata": {},
   "source": [
    "### 3. Phylum level figures"
   ]
  },
  {
   "cell_type": "code",
   "execution_count": null,
   "id": "3712586e",
   "metadata": {},
   "outputs": [],
   "source": [
    "system(\"mkdir img\")\n",
    "data$Sample <- factor(data$Sample, levels=unique(data$Sample))\n",
    "# plot by sample\n",
    "taxbarsamp <- ggplot(data, aes(x=Sample, y=Abundance, fill=V4)) + geom_bar(aes(), stat=\"identity\", position=\"stack\") + theme_minimal() + theme(axis.text.x = element_text(angle = 90))\n",
    "taxbarsamp\n",
    "pdf(\"img/taxonomy_barchart.pdf\")\n",
    "taxbarsamp\n",
    "dev.off()\n",
    "# phyloseq group by hiv status and aliquot type\n",
    "taxbargrp <- plot_bar(rel.abund, \"V4\", fill=\"V4\", facet_grid=aliquot_type~study_group) + geom_bar(aes(color=V4, fill=V4), stat=\"identity\", position=\"stack\")\n",
    "taxbargrp\n",
    "pdf(\"img/tax_bar.aliquot_by_sample.pdf\")\n",
    "taxbargrp\n",
    "dev.off()"
   ]
  },
  {
   "cell_type": "markdown",
   "id": "3b482d48",
   "metadata": {},
   "source": [
    "### 4. Stacked barchart grouped by study group and aliquot type (phylum level)"
   ]
  },
  {
   "cell_type": "code",
   "execution_count": null,
   "id": "ad78d33c",
   "metadata": {},
   "outputs": [],
   "source": [
    "grouped <- data %>% group_by(study_group, aliquot_type, V4) %>% summarize(Abundance = mean(Abundance))\n",
    "taxbarphy <- ggplot(grouped, aes(fill=V4, y=Abundance, x=study_group)) + geom_bar(position=\"fill\", stat=\"identity\") + facet_wrap(~aliquot_type) + theme_minimal()\n",
    "taxbarphy\n",
    "pdf(\"img/bar.study_group.phyla.pdf\")\n",
    "taxbarphy\n",
    "dev.off()"
   ]
  },
  {
   "cell_type": "markdown",
   "id": "6b0b5244",
   "metadata": {},
   "source": [
    "### 5. Stacked barchart at family level (only above 20% frequency)"
   ]
  },
  {
   "cell_type": "code",
   "execution_count": null,
   "id": "68369ca4",
   "metadata": {},
   "outputs": [],
   "source": [
    "glom <- tax_glom(rel.abund, taxrank=rank_names(rel.abund)[8]) # collapse \n",
    "data <- psmelt(glom) # create dataframe from phyloseq object\n",
    "data$V7 <- as.character(data$V7) # convert to character\n",
    "data$V7[data$Abundance < 0.2] <- \"< 20% abund\" # rename low freq phyla\n",
    "grouped <- data %>% group_by(study_group, aliquot_type, V7) %>% summarize(Abundance = mean(Abundance))\n",
    "famtaxbar <- ggplot(grouped, aes(fill=V7, y=Abundance, x=study_group)) + geom_bar(position=\"fill\", stat=\"identity\") + facet_wrap(~aliquot_type) + theme_minimal() + theme(legend.key.size=unit(0.000001, \"cm\"))\n",
    "famtaxbar\n",
    "pdf(\"img/bar.study_group.L7.pdf\")\n",
    "famtaxbar\n",
    "dev.off()"
   ]
  },
  {
   "cell_type": "markdown",
   "id": "654d2952",
   "metadata": {},
   "source": [
    "# PhILR transformation"
   ]
  },
  {
   "cell_type": "code",
   "execution_count": null,
   "id": "af654c39",
   "metadata": {},
   "outputs": [],
   "source": [
    "philr.dat <- transform_sample_counts(ps.dat, function(x) x+1) # add pseudocount of one to ASVs to avoid log-ratios calculated from zero\n",
    "is.rooted(phy_tree(philr.dat)) # check that tree is rooted\n",
    "# [1] TRUE\n",
    "is.binary(phy_tree(philr.dat)) #check that multichotomies are resolved in tree\n",
    "# [1] TRUE\n",
    "phy_tree(philr.dat) <- makeNodeLabel(phy_tree(philr.dat), method=\"number\", prefix=\"n\")\n",
    "asv.table <- otu_table(philr.dat)\n",
    "tree <- phy_tree(philr.dat)\n",
    "metadata <- sample_data(philr.dat)\n",
    "tax <- tax_table(philr.dat)\n",
    "philr.t <- philr(asv.table, tree, part.weights=\"enorm.x.gm.counts\", ilr.weights=\"blw.sqrt\")"
   ]
  },
  {
   "cell_type": "markdown",
   "id": "e546ab25",
   "metadata": {},
   "source": [
    "# Beta diversity"
   ]
  },
  {
   "cell_type": "markdown",
   "id": "52b1616c",
   "metadata": {},
   "source": [
    "### 1. Get distance matrix from PhILR transformed data"
   ]
  },
  {
   "cell_type": "code",
   "execution_count": null,
   "id": "51150593",
   "metadata": {},
   "outputs": [],
   "source": [
    "philr.dist <- dist(philr.t, method=\"euclidean\") "
   ]
  },
  {
   "cell_type": "markdown",
   "id": "8ba9105e",
   "metadata": {},
   "source": [
    "### 2. PCA plots"
   ]
  },
  {
   "cell_type": "code",
   "execution_count": null,
   "id": "c3af4340",
   "metadata": {},
   "outputs": [],
   "source": [
    "# scree plot\n",
    "pca <- prcomp(as.matrix(philr.dist))\n",
    "scree <- screeplot(pca)\n",
    "scree\n",
    "pdf(\"img/pca_screeplot.pdf\")\n",
    "scree\n",
    "dev.off()\n",
    "# colored by aliquot type, shape by study group\n",
    "pca.plt <- autoplot(pca, data=sample_data(philr.dat), colour=\"aliquot_type\", shape=\"study_group\") + theme_minimal() + scale_shape_manual(values=c(15, 16, 17, 18))\n",
    "pca.plt\n",
    "pdf(\"img/pca.aliquot_type.pdf\")\n",
    "pca.plt\n",
    "dev.off()\n",
    "# study group, sex\n",
    "pca.plt <- autoplot(pca, data=sample_data(philr.dat), colour=\"sex\", shape=\"study_group\") + theme_minimal() + scale_shape_manual(values=c(15, 16, 17, 18))\n",
    "pca.plt\n",
    "pdf(\"img/pca.sex.pdf\")\n",
    "pca.plt\n",
    "dev.off()"
   ]
  },
  {
   "cell_type": "markdown",
   "id": "3a2d3a42",
   "metadata": {},
   "source": [
    "### 3. PERMANOVA"
   ]
  },
  {
   "cell_type": "markdown",
   "id": "794df7e8",
   "metadata": {},
   "source": [
    "Remove US kids from dataframe and regenerate philr dist `"
   ]
  },
  {
   "cell_type": "code",
   "execution_count": null,
   "id": "5a302362",
   "metadata": {},
   "outputs": [],
   "source": [
    "philr.dat.noUS <- subset_samples(philr.dat, study_group != \"US\")\n",
    "phy_tree(philr.dat.noUS) <- makeNodeLabel(phy_tree(philr.dat.noUS), method=\"number\", prefix=\"n\")\n",
    "asv.table <- otu_table(philr.dat.noUS)\n",
    "tree <- phy_tree(philr.dat.noUS)\n",
    "metadata <- sample_data(philr.dat.noUS)\n",
    "tax <- tax_table(philr.dat.noUS)\n",
    "philr.t.noUS <- philr(asv.table, tree, part.weights=\"enorm.x.gm.counts\", ilr.weights=\"blw.sqrt\")\n",
    "# now generate distance matrix\n",
    "philr.dist.noUS <- dist(philr.t.noUS, method=\"euclidean\") "
   ]
  },
  {
   "cell_type": "markdown",
   "id": "12f6dfe9",
   "metadata": {},
   "source": [
    "Comparing study group, aliquot type, sex, and age"
   ]
  },
  {
   "cell_type": "code",
   "execution_count": null,
   "id": "70bc6a43",
   "metadata": {},
   "outputs": [],
   "source": [
    "adonis(philr.dist.noUS ~ study_group * aliquot_type * sex * age_y, data=metadata)"
   ]
  },
  {
   "cell_type": "markdown",
   "id": "920229fa",
   "metadata": {},
   "source": [
    "### 4. Pairwise tests"
   ]
  },
  {
   "cell_type": "markdown",
   "id": "7e57b03c",
   "metadata": {},
   "source": [
    "Matrix for neighbor joining trees"
   ]
  },
  {
   "cell_type": "code",
   "execution_count": null,
   "id": "a9c45d4c",
   "metadata": {},
   "outputs": [],
   "source": [
    "t <- pairwise.adonis(otu_table(ps.dat.noUS), sample_data(ps.dat.noUS)$study_group)\n",
    "# t\n",
    "mat <- matrix(0, length(levels(as.factor(sample_data(ps.dat.noUS)$study_group))), length(levels(as.factor(sample_data(ps.dat.noUS)$study_group))))\n",
    "mat[lower.tri(mat, diag=F)] <- t$F.Model\n",
    "# mat\n",
    "write.matrix(mat, \"study_group_distance.formeta.meg\", sep=\" \")\n",
    "\n",
    "t <- pairwise.adonis(otu_table(ps.dat.noUS), sample_data(ps.dat.noUS)$aliquot_type)\n",
    "# t\n",
    "mat <- matrix(0, length(levels(as.factor(sample_data(ps.dat.noUS)$aliquot_type))), length(levels(as.factor(sample_data(ps.dat.noUS)$aliquot_type))))\n",
    "mat[lower.tri(mat, diag=F)] <- t$F.Model\n",
    "# mat\n",
    "write.matrix(mat, \"aliquot_type_distance.formeta.meg\", sep=\" \")\n",
    "\n",
    "# make new metadata category to do HIV status + tooth type\n",
    "sample_data(ps.dat.noUS)$aliquot_study <- paste(sample_data(ps.dat.noUS)$study_group, sample_data(ps.dat.noUS)$aliquot_type, sep=\".\")\n",
    "t <- pairwise.adonis(otu_table(ps.dat.noUS), sample_data(ps.dat.noUS)$aliquot_study)\n",
    "# t\n",
    "mat <- matrix(0, length(levels(as.factor(sample_data(ps.dat.noUS)$aliquot_study))), length(levels(as.factor(sample_data(ps.dat.noUS)$aliquot_study))))\n",
    "mat[lower.tri(mat, diag=F)] <- t$F.Model\n",
    "# mat\n",
    "write.matrix(mat, \"aliquot_type_study_group_distance.formeta.meg\", sep=\" \")"
   ]
  },
  {
   "cell_type": "markdown",
   "id": "b40c37c7",
   "metadata": {},
   "source": [
    "### 5. Beta dispersion tests"
   ]
  },
  {
   "cell_type": "code",
   "execution_count": null,
   "id": "e97705c9",
   "metadata": {},
   "outputs": [],
   "source": [
    "dispr <- vegan::betadisper(philr.dist.noUS, phyloseq::sample_data(philr.dat.noUS)$aliquot_type)\n",
    "print(\"aliquot type:\")\n",
    "dispr\n",
    "permutest(dispr)\n",
    "dispr <- vegan::betadisper(philr.dist.noUS, phyloseq::sample_data(philr.dat.noUS)$study_group)\n",
    "print(\"study group:\")\n",
    "dispr\n",
    "permutest(dispr)\n",
    "dispr <- vegan::betadisper(philr.dist.noUS, phyloseq::sample_data(philr.dat.noUS)$sex)\n",
    "print(\"sex:\")\n",
    "dispr\n",
    "permutest(dispr)\n",
    "dispr <- vegan::betadisper(philr.dist.noUS, phyloseq::sample_data(philr.dat.noUS)$age_y)\n",
    "print(\"age:\")\n",
    "dispr\n",
    "permutest(dispr)\n",
    "betadis.age <- boxplot(dispr)\n",
    "betadisp.age\n",
    "pdf(\"img/betadispr.age.pdf\")\n",
    "betadisp.age\n",
    "dev.off()\n",
    "betadisp.ord <- plot(dispr)\n",
    "betadisp.ord\n",
    "pdf(\"img/betadispr.age.ord.pdf\")\n",
    "betadisp.ord\n",
    "dev.off()"
   ]
  },
  {
   "cell_type": "markdown",
   "id": "957f5a19",
   "metadata": {},
   "source": [
    "What if we looked at different tooth types by HIV status?"
   ]
  },
  {
   "cell_type": "code",
   "execution_count": null,
   "id": "b0c949d7",
   "metadata": {},
   "outputs": [],
   "source": [
    "phyloseq::sample_data(philr.dat.noUS)$study_aliquot <- with(phyloseq::sample_data(philr.dat.noUS), interaction(phyloseq::sample_data(philr.dat.noUS)$study_group, phyloseq::sample_data(philr.dat.noUS)$aliquot_type))\n",
    "dispr <- vegan::betadisper(philr.dist.noUS, phyloseq::sample_data(philr.dat.noUS)$study_aliquot)\n",
    "dispr\n",
    "permutest(dispr)\n",
    "df <- data.frame(group=dispr$group, distances=dispr$distances)\n",
    "pdf(\"img/betadispr.study_aliquot.pdf\")\n",
    "ggplot(df, aes(group, distances)) + geom_boxplot() + theme(axis.text.x=element_text(angle=45))\n",
    "dev.off()\n",
    "ggplot(df, aes(group, distances)) + geom_boxplot() + theme(axis.text.x=element_text(angle=45))"
   ]
  },
  {
   "cell_type": "markdown",
   "id": "0c1a514a",
   "metadata": {},
   "source": [
    "Get phyloseq object with US kids removed"
   ]
  },
  {
   "cell_type": "code",
   "execution_count": null,
   "id": "0cd26b81",
   "metadata": {},
   "outputs": [],
   "source": [
    "ps.dat.noUS <- subset_samples(ps.dat, study_group != \"US\")"
   ]
  },
  {
   "cell_type": "markdown",
   "id": "69c210a0",
   "metadata": {},
   "source": [
    "Distance based redundancy analysis"
   ]
  },
  {
   "cell_type": "code",
   "execution_count": null,
   "id": "70e15374",
   "metadata": {},
   "outputs": [],
   "source": [
    "ordcap <- ordinate(ps.dat, \"CAP\", \"bray\", ~study_group)\n",
    "pdf(\"img/capscale_plt.study_group.pdf\") \n",
    "plot_ordination(ps.dat, ordcap, \"samples\", color=\"study_group\") + theme_minimal()\n",
    "dev.off()\n",
    "plot_ordination(ps.dat, ordcap, \"samples\", color=\"study_group\") + theme_minimal()\n",
    "\n",
    "ordcap <- ordinate(ps.dat.noUS, \"CAP\", \"bray\", ~aliquot_type)\n",
    "pdf(\"img/capscale_plt.aliquot_type.pdf\")\n",
    "plot_ordination(ps.dat.noUS, ordcap, \"samples\", color=\"aliquot_type\") + theme_minimal()\n",
    "dev.off()\n",
    "plot_ordination(ps.dat.noUS, ordcap, \"samples\", color=\"aliquot_type\") + theme_minimal()\n",
    "\n",
    "ordcap <- ordinate(ps.dat.noUS, \"CAP\", \"bray\", aliquot_type~study_group)\n",
    "pdf(\"img/capscale_plt.aliquot_type.study_group.pdf\")\n",
    "plot_ordination(ps.dat, ordcap, \"samples\", color=\"aliquot_type\", shape=\"study_group\") + theme_minimal()\n",
    "dev.off()\n",
    "plot_ordination(ps.dat, ordcap, \"samples\", color=\"aliquot_type\", shape=\"study_group\") + theme_minimal()"
   ]
  },
  {
   "cell_type": "markdown",
   "id": "fe03f239",
   "metadata": {},
   "source": [
    "# Alpha diversity"
   ]
  },
  {
   "cell_type": "code",
   "execution_count": null,
   "id": "5be14a8c",
   "metadata": {},
   "outputs": [],
   "source": [
    "# study group\n",
    "pdf(\"img/adiv.study_group.pdf\")\n",
    "plot_richness(ps.dat, measures=c(\"Observed\", \"Shannon\"), x=\"study_group\") + geom_boxplot() + theme_minimal() \n",
    "dev.off()\n",
    "plot_richness(ps.dat, measures=c(\"Observed\", \"Shannon\"), x=\"study_group\") + geom_boxplot() + theme_minimal() \n",
    "\n",
    "# sex\n",
    "pdf(\"img/adiv.sex.pdf\")\n",
    "plot_richness(ps.dat.noUS, measures=c(\"Observed\", \"Shannon\"),x=\"sex\") + geom_boxplot() + theme_minimal()\n",
    "dev.off()\n",
    "plot_richness(ps.dat.noUS, measures=c(\"Observed\", \"Shannon\"),x=\"sex\") + geom_boxplot() + theme_minimal()\n",
    "\n",
    "# age\n",
    "sample_data(ps.dat.noUS)$age_y <- as.factor(sample_data(ps.dat.noUS)$age_y)\n",
    "pdf(\"img/adiv.age_y.pdf\")\n",
    "plot_richness(ps.dat.noUS, measures=c(\"Observed\", \"Shannon\"),x=\"age_y\") + geom_boxplot() + theme_minimal()\n",
    "dev.off()\n",
    "plot_richness(ps.dat.noUS, measures=c(\"Observed\", \"Shannon\"),x=\"age_y\") + geom_boxplot() + theme_minimal()\n",
    "\n",
    "# aliqout type \n",
    "pdf(\"img/adiv.aliqout_type.pdf\")\n",
    "plot_richness(ps.dat.noUS, measures=c(\"Observed\", \"Shannon\"),x=\"aliquot_type\") + geom_boxplot() + theme_minimal()\n",
    "dev.off()\n",
    "plot_richness(ps.dat.noUS, measures=c(\"Observed\", \"Shannon\"),x=\"aliquot_type\") + geom_boxplot() + theme_minimal()"
   ]
  },
  {
   "cell_type": "markdown",
   "id": "c768af40",
   "metadata": {},
   "source": [
    "# Shared features"
   ]
  },
  {
   "cell_type": "code",
   "execution_count": null,
   "id": "13bf51d2",
   "metadata": {},
   "outputs": [],
   "source": [
    "merged <- merge(otu_table(ps.dat), sample_data(ps.dat), by=\"row.names\")\n",
    "n <- ncol(otu_table(ps.dat)) + 1\n",
    "# by sex\n",
    "agg <- aggregate(merged[,2:n], by=list(merged$sex), FUN=sum) \n",
    "#remove columns with only zeros\n",
    "agg <- agg[,colSums(agg !=0) > 0]\n",
    "rownames(agg) <- agg$Group.1\n",
    "#convert to presence absence table \n",
    "agg[agg>1] <- 1\n",
    "agg <- data.frame(t(agg[,-1]))\n",
    "pdf(\"img/upset.sex.pdf\")\n",
    "upset(agg, order.by=\"freq\", mainbar.y.label=\"Number of ASVs\", sets.x.label=\"Shared ASVs\")\n",
    "dev.off()\n",
    "\n",
    "# by aliquot type\n",
    "agg <- aggregate(merged[,2:n], by=list(merged$aliquot_type), FUN=sum) \n",
    "#remove columns with only zeros\n",
    "agg <- agg[,colSums(agg !=0) > 0]\n",
    "rownames(agg) <- agg$Group.1\n",
    "#convert to presence absence table \n",
    "agg[agg>1] <- 1\n",
    "agg <- data.frame(t(agg[,-1]))\n",
    "#reorder\n",
    "agg <- agg[,c(\"CA.PD\", \"CA.PE\", \"CA.PF\", \"CAE.PE\", \"CAE.PF\", \"CF.PF\")]\n",
    "pdf(\"img/upset.aliquot_type.pdf\")\n",
    "upset(agg, keep.order=T, sets=c(\"CA.PD\", \"CA.PE\", \"CA.PF\", \"CF.PF\"), order.by=\"freq\",mainbar.y.label=\"Number of ASVs\", sets.x.label=\"Shared ASVs\")\n",
    "dev.off()\n",
    "\n",
    "# by study_group\n",
    "agg <- aggregate(merged[,2:n], by=list(merged$study_group), FUN=sum) \n",
    "#remove columns with only zeros\n",
    "agg <- agg[,colSums(agg !=0) > 0]\n",
    "rownames(agg) <- agg$Group.1\n",
    "#convert to presence absence table \n",
    "agg[agg>1] <- 1\n",
    "agg <- data.frame(t(agg[,-1]))\n",
    "pdf(\"img/upset.study_group.pdf\")\n",
    "upset(agg, order.by=\"freq\", mainbar.y.label=\"Number of ASVs\", sets.x.label=\"Shared ASVs\")\n",
    "dev.off()\n",
    "upset(agg, order.by=\"freq\", mainbar.y.label=\"Number of ASVs\", sets.x.label=\"Shared ASVs\")"
   ]
  },
  {
   "cell_type": "markdown",
   "id": "0beccc67",
   "metadata": {},
   "source": [
    "# Random forest classification"
   ]
  },
  {
   "cell_type": "code",
   "execution_count": null,
   "id": "96209ba4",
   "metadata": {},
   "outputs": [],
   "source": [
    "# format data\n",
    "asv_tab <- read.table(\"../02-read_processing/sequence_table.filt.txt\", sep=\"\\t\", header=T, row.names=1, stringsAsFactors=F, comment.char=\"\")\n",
    "# remove us kids\n",
    "asv_tab <- asv_tab[!grepl(\"L\", row.names(asv_tab)),]\n",
    "metadata <- read.table(\"../02-read_processing/map.filt.txt\", sep=\"\\t\", header=T, row.names=1, stringsAsFactors=T, comment.char=\"\")\n",
    "\n",
    "metadata$study_group <- factor(metadata$study_group)\n",
    "# get relative abudance\n",
    "asv_tab_norm <- sweep(asv_tab, 2, colSums(asv_tab), '/')*100\n",
    "asv_tab_scale <- scale(asv_tab_norm, center=T, scale=T)\n",
    "asv_tab_var <- data.frame(asv_tab_scale)\n",
    "# remove nas\n",
    "asv_tab_var <- asv_tab_var[, colSums(is.na(asv_tab_var)) == 0]\n",
    "set.seed(151)\n",
    "\n",
    "# by study group\n",
    "asv_tab_var$var <- metadata[rownames(asv_tab_var), \"study_group\"]\n",
    "rf.study_group <- randomForest(x=asv_tab_var[,1:(ncol(asv_tab_var)-1)], y=asv_tab_var$var, ntree=10000, importance=T, proximity=T)\n",
    "rf.study_group\n",
    "\n",
    "# plot important ASVs\n",
    "pdf(\"img/rf.study_group.importance.pdf\")\n",
    "varImpPlot(rf.study_group)\n",
    "dev.off()\n",
    "varImpPlot(rf.study_group)\n",
    "\n",
    "# by aliquot type\n",
    "# since there is a major sample number descrepancy, randomly sample to 100 samples in CA-PD, CA-PF, CF-PF (all others less than 100 samples) \n",
    "temp <- filter(asv_tab_var, var == \"CF-PF\" | var == \"CA-PF\" | var == \"CA-PF\" | var == \"CA-PD\")\n",
    "temp$var <- droplevels(temp$var)\n",
    "asv_tab_var.filt <- as.data.frame(temp %>% group_by(var) %>% sample_n(100))\n",
    "\n",
    "rf.filt.aliquot_type <- randomForest(x=asv_tab_var.filt[,1:(ncol(asv_tab_var.filt)-1)], y=asv_tab_var.filt$var, ntree=10000, importance=T, proximity=T)\n",
    "rf.filt.aliquot_type\n",
    "# plot important ASVs\n",
    "pdf(\"img/rf.filt.aliquot_type.importance.pdf\")\n",
    "varImpPlot(rf.filt.aliquot_type)\n",
    "dev.off()\n",
    "varImpPlot(rf.filt.aliquot_type)\n",
    "\n",
    "# how do different tooth types look between HIV status states?\n",
    "# first need to merge study_group and aliquot_type\n",
    "metadata$study_aliquot <- with(metadata, interaction(study_group, aliquot_type))\n",
    "\n",
    "# filtered to only include DOMHaIN samples, top tooth types\n",
    "temp <- filter(asv_tab_var, var == \"HEU.CF-PF\" | var == \"HI.CF-PF\" | var == \"HUU.CF-PF\")\n",
    "temp$var <- droplevels(temp$var)\n",
    "asv_tab_var.filt <- as.data.frame(temp %>% group_by(var) %>% sample_n(100))\n",
    "\n",
    "rf.filt.sample_aliquot <- randomForest(x=asv_tab_var.filt[,1:(ncol(asv_tab_var.filt)-1)], y=asv_tab_var.filt$var, ntree=10000, importance=T, proximity=T)\n",
    "rf.filt.sample_aliquot\n",
    "# CA-PD\n",
    "temp <- filter(asv_tab_var, var == \"HEU.CA-PD\" | var == \"HI.CA-PD\" | var == \"HUU.CA-PD\")\n",
    "temp$var <- as.factor(temp$var)\n",
    "temp$var <- droplevels(temp$var)\n",
    "asv_tab_var.filt <- as.data.frame(temp %>% group_by(var) %>% sample_n(20))\n",
    "rf.filt.sample_aliquot <- randomForest(x=asv_tab_var.filt[,1:(ncol(asv_tab_var.filt)-1)], y=asv_tab_var.filt$var, ntree=10000, importance=T, proximity=T)\n",
    "rf.filt.sample_aliquot"
   ]
  },
  {
   "cell_type": "markdown",
   "id": "958ca435",
   "metadata": {},
   "source": [
    "# Core taxa"
   ]
  },
  {
   "cell_type": "code",
   "execution_count": null,
   "id": "10e503d3",
   "metadata": {},
   "outputs": [],
   "source": [
    "# normalize\n",
    "ps.dat.core <- microbiome::transform(ps.dat, \"compositional\")\n",
    "# overall top taxa\n",
    "head(prevalence(ps.dat.core, detection = 1/100, sort = T), 10)\n",
    "# core taxa in HI samples\n",
    "head(prevalence(subset_samples(ps.dat.core, study_group == \"HI\"), detection = 1/100, sort = T), 10)\n",
    "# core taxa in HEU samples\n",
    "head(prevalence(subset_samples(ps.dat.core, study_group == \"HEU\"), detection = 1/100, sort = T), 10)\n",
    "# core taxa in HUU samples\n",
    "head(prevalence(subset_samples(ps.dat.core, study_group == \"HUU\"), detection = 1/100, sort = T), 10)\n",
    "# what about differences in tooth type in HI individuals?\n",
    "head(prevalence(subset_samples(ps.dat.core, study_group == \"HI\" & aliquot_type == \"CF-PF\"), detection = 1/100, sort = T), 10)\n",
    "head(prevalence(subset_samples(ps.dat.core, study_group == \"HI\" & aliquot_type == \"CA-PD\"), detection = 1/100, sort = T), 10)\n",
    "head(prevalence(subset_samples(ps.dat.core, study_group == \"HUU\" & aliquot_type == \"CF-PF\"), detection = 1/100, sort = T), 10)\n",
    "head(prevalence(subset_samples(ps.dat.core, study_group == \"HUU\" & aliquot_type == \"CA-PD\"), detection = 1/100, sort = T), 10)\n",
    "head(prevalence(subset_samples(ps.dat.core, study_group == \"HEU\" & aliquot_type == \"CF-PF\"), detection = 1/100, sort = T), 10)\n",
    "head(prevalence(subset_samples(ps.dat.core, study_group == \"HEU\" & aliquot_type == \"CA-PD\"), detection = 1/100, sort = T), 10)"
   ]
  }
 ],
 "metadata": {
  "kernelspec": {
   "display_name": "R",
   "language": "R",
   "name": "ir"
  },
  "language_info": {
   "codemirror_mode": "r",
   "file_extension": ".r",
   "mimetype": "text/x-r-source",
   "name": "R",
   "pygments_lexer": "r",
   "version": "4.1.0"
  }
 },
 "nbformat": 4,
 "nbformat_minor": 5
}
